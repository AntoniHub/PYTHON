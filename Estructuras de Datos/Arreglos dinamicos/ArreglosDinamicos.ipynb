{
 "cells": [
  {
   "cell_type": "markdown",
   "metadata": {},
   "source": [
    "## Arrays dinamicos.\n",
    "\n",
    "\n",
    "Una matriz dinámica es similar a una matriz, pero con la diferencia de que su tamaño se puede modificar dinámicamente en tiempo de ejecución. No es necesario especificar el tamaño de una matriz de antemano. Los elementos de una matriz ocupan un bloque contiguo de memoria y, una vez creados, su tamaño no se puede cambiar. Una matriz dinámica puede, una vez que la matriz está llena, asignar una mayor cantidad de memoria, copiar el contenido de la matriz original a este nuevo espacio y continuar llenando los espacios disponibles.\n",
    "\n",
    "\n",
    "### Implementación de lógica de matriz dinámica\n",
    "\n",
    "La clave es proporcionar los medios para hacer crecer una matriz A que almacena los elementos de una lista. En realidad, no podemos hacer crecer la matriz, su capacidad es fija. Si un elemento se agrega a una lista a la vez, cuando la matriz subyacente está llena, debemos realizar los siguientes pasos. Asigne una nueva matriz B con mayor capacidad (una regla comúnmente utilizada para la nueva matriz es tener el doble de capacidad que la matriz existente) Establezca B [i] = A [i], para i = 0 an-1 donde n denota el número actual de elementos. Establezca A = B, es decir, de aquí en adelante usaremos B como la matriz de la lista de apoyo. Inserte un nuevo elemento en la nueva matriz."
   ]
  },
  {
   "cell_type": "code",
   "execution_count": null,
   "metadata": {},
   "outputs": [],
   "source": []
  }
 ],
 "metadata": {
  "kernelspec": {
   "display_name": "Python 3",
   "language": "python",
   "name": "python3"
  },
  "language_info": {
   "codemirror_mode": {
    "name": "ipython",
    "version": 3
   },
   "file_extension": ".py",
   "mimetype": "text/x-python",
   "name": "python",
   "nbconvert_exporter": "python",
   "pygments_lexer": "ipython3",
   "version": "3.6.11"
  }
 },
 "nbformat": 4,
 "nbformat_minor": 4
}
